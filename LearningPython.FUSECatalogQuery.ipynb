{
 "cells": [
  {
   "cell_type": "markdown",
   "metadata": {},
   "source": [
    "# Using `astropy.coordinates` to Query FUSE Observations\n",
    "This notebook walks through selecting stars from the master list of FUSE observations, obtained from MAST. "
   ]
  },
  {
   "cell_type": "code",
   "execution_count": 2,
   "metadata": {
    "collapsed": true
   },
   "outputs": [],
   "source": [
    "##Set up matplotlib for display in the browser:\n",
    "%matplotlib inline"
   ]
  },
  {
   "cell_type": "markdown",
   "metadata": {},
   "source": [
    "Standard modules:"
   ]
  },
  {
   "cell_type": "code",
   "execution_count": 3,
   "metadata": {
    "collapsed": true
   },
   "outputs": [],
   "source": [
    "##Very most basic/standard imports:\n",
    "import matplotlib.pyplot as plt\n",
    "import numpy as np\n",
    "\n",
    "##If you read FITS or ascii tables, these are necessary:\n",
    "from astropy.io import fits\n",
    "from astropy.io import ascii\n",
    "\n",
    "##Automatic unit tracking...maybe?\n",
    "import astropy.units as u\n",
    "\n",
    "##Module containing a lot of standard stats packages:\n",
    "from scipy import stats\n",
    "\n",
    "#System options:\n",
    "import sys"
   ]
  },
  {
   "cell_type": "markdown",
   "metadata": {},
   "source": [
    "Specifically for constructing coordinate queries: import functionality from the `astropy.coordinates` module."
   ]
  },
  {
   "cell_type": "code",
   "execution_count": 4,
   "metadata": {
    "collapsed": true
   },
   "outputs": [],
   "source": [
    "from astropy.coordinates import SkyCoord\n",
    "from astropy.coordinates import ICRS, Galactic, FK4, FK5  # Low-level frames\n",
    "from astropy.coordinates import Angle, Latitude, Longitude  # Angles\n",
    "import astropy.coordinates as coord"
   ]
  },
  {
   "cell_type": "markdown",
   "metadata": {},
   "source": [
    "## FUSE exposure catalog search for Perseus targets\n",
    "\n",
    "Here I'm searching the FUSE exposure catalog (downloaded through MAST) to search for targets at low-latitude in the Perseus arm. \n",
    "\n",
    "I'm particularly intersted in a region within `165 < l < 175` or so and at low latitudes. I'll do this by using `astropy.coordinates` modules to transform the RA/Dec of the targets into Galactic longitude and latitude, then query on that."
   ]
  },
  {
   "cell_type": "markdown",
   "metadata": {},
   "source": [
    "### Step 1: use  `astropy.ascii.read` to read in the exposure catalog.\n",
    "This turns out to be really easy, since MAST spits this out as a CSV file. We will read this in with `ascii.read`, then test the properties of the resulting table (be prepared for a pop-up of sorts below)."
   ]
  },
  {
   "cell_type": "code",
   "execution_count": 17,
   "metadata": {
    "collapsed": true
   },
   "outputs": [],
   "source": [
    "fuse=ascii.read('FUSE_exposureCatalog.csv')\n",
    "fuse?"
   ]
  },
  {
   "cell_type": "markdown",
   "metadata": {},
   "source": [
    "Let's look at the column names, then print a sample entry."
   ]
  },
  {
   "cell_type": "code",
   "execution_count": 6,
   "metadata": {
    "collapsed": false
   },
   "outputs": [
    {
     "data": {
      "text/plain": [
       "['dataproduct_type',\n",
       " 'obs_collection',\n",
       " 'instrument_name',\n",
       " 'project',\n",
       " 'filters',\n",
       " 'wavelength_region',\n",
       " 'target_name',\n",
       " 'target_classification',\n",
       " 'obs_id',\n",
       " 's_ra',\n",
       " 's_dec',\n",
       " 'proposal_id',\n",
       " 'proposal_pi',\n",
       " 'calib_level',\n",
       " 't_min',\n",
       " 't_max',\n",
       " 't_exptime',\n",
       " 'em_min',\n",
       " 'em_max',\n",
       " 't_obs_release',\n",
       " 's_region',\n",
       " 'jpegURL',\n",
       " 'obsid',\n",
       " 'objID']"
      ]
     },
     "execution_count": 6,
     "metadata": {},
     "output_type": "execute_result"
    }
   ],
   "source": [
    "fuse.colnames"
   ]
  },
  {
   "cell_type": "code",
   "execution_count": 7,
   "metadata": {
    "collapsed": false
   },
   "outputs": [
    {
     "data": {
      "text/html": [
       "&lt;Row index=5 masked=True&gt;\n",
       "<table id=\"table4617393680\">\n",
       "<thead><tr><th>dataproduct_type</th><th>obs_collection</th><th>instrument_name</th><th>project</th><th>filters</th><th>wavelength_region</th><th>target_name</th><th>target_classification</th><th>obs_id</th><th>s_ra</th><th>s_dec</th><th>proposal_id</th><th>proposal_pi</th><th>calib_level</th><th>t_min</th><th>t_max</th><th>t_exptime</th><th>em_min</th><th>em_max</th><th>t_obs_release</th><th>s_region</th><th>jpegURL</th><th>obsid</th><th>objID</th></tr></thead>\n",
       "<thead><tr><th>str8</th><th>str4</th><th>str3</th><th>int64</th><th>int64</th><th>str2</th><th>str23</th><th>str34</th><th>str11</th><th>float64</th><th>float64</th><th>str4</th><th>str15</th><th>int64</th><th>float64</th><th>float64</th><th>int64</th><th>float64</th><th>float64</th><th>float64</th><th>str65</th><th>str81</th><th>int64</th><th>int64</th></tr></thead>\n",
       "<tr><td>spectrum</td><td>FUSE</td><td>FUV</td><td>--</td><td>--</td><td>UV</td><td>0513-69</td><td>X-RAY SOURCE</td><td>b0160102000</td><td>78.461667</td><td>-69.863056</td><td>B016</td><td>Hutchings</td><td>2</td><td>52213.1093403</td><td>52213.2625133</td><td>3965</td><td>90.0</td><td>119.0</td><td>nan</td><td>CIRCLE ICRS 78.46166700000001 -69.863056 0.00416666666667</td><td>http://archive.stsci.edu/browse/previews/fuse/b0160102/b016010200000specttagf.gif</td><td>3001000470</td><td>3001000337</td></tr>\n",
       "</table>"
      ],
      "text/plain": [
       "<Row index=5 masked=True>\n",
       "dataproduct_type obs_collection instrument_name project filters wavelength_region target_name target_classification    obs_id      s_ra     s_dec    proposal_id proposal_pi calib_level     t_min         t_max     t_exptime  em_min  em_max t_obs_release                          s_region                                                              jpegURL                                        obsid      objID   \n",
       "      str8            str4            str3       int64   int64         str2          str23            str34            str11     float64   float64       str4       str15       int64       float64       float64      int64   float64 float64    float64                              str65                                                                 str81                                         int64      int64   \n",
       "---------------- -------------- --------------- ------- ------- ----------------- ----------- --------------------- ----------- --------- ---------- ----------- ----------- ----------- ------------- ------------- --------- ------- ------- ------------- --------------------------------------------------------- --------------------------------------------------------------------------------- ---------- ----------\n",
       "        spectrum           FUSE             FUV      --      --                UV     0513-69          X-RAY SOURCE b0160102000 78.461667 -69.863056        B016   Hutchings           2 52213.1093403 52213.2625133      3965    90.0   119.0           nan CIRCLE ICRS 78.46166700000001 -69.863056 0.00416666666667 http://archive.stsci.edu/browse/previews/fuse/b0160102/b016010200000specttagf.gif 3001000470 3001000337"
      ]
     },
     "execution_count": 7,
     "metadata": {},
     "output_type": "execute_result"
    }
   ],
   "source": [
    "fuse[5]"
   ]
  },
  {
   "cell_type": "markdown",
   "metadata": {},
   "source": [
    "### Step 2: Extract RA/Dec list into the `astropy.coordinates` system"
   ]
  },
  {
   "cell_type": "markdown",
   "metadata": {},
   "source": [
    "Here we use the `SkyCoord` function to incorporate our positions into the `astropy.coordinates` system. This is useful for facilitating coordinate conversions and manipulations."
   ]
  },
  {
   "cell_type": "code",
   "execution_count": 23,
   "metadata": {
    "collapsed": true
   },
   "outputs": [],
   "source": [
    "fuseCoords=SkyCoord(fuse['s_ra'],fuse['s_dec'],unit=(u.deg,u.deg),frame='fk5')"
   ]
  },
  {
   "cell_type": "markdown",
   "metadata": {},
   "source": [
    "Take a look at the structure of the output for one of the pointing positions:"
   ]
  },
  {
   "cell_type": "code",
   "execution_count": 24,
   "metadata": {
    "collapsed": false
   },
   "outputs": [
    {
     "data": {
      "text/plain": [
       "(<SkyCoord (FK5: equinox=J2000.000): (ra, dec) in deg\n",
       "     (78.461667, -69.863056)>, <SkyCoord (Galactic): (l, b) in deg\n",
       "     (280.79643055, -33.68811397)>)"
      ]
     },
     "execution_count": 24,
     "metadata": {},
     "output_type": "execute_result"
    }
   ],
   "source": [
    "fuseCoords[5],fuseCoords[5].galactic"
   ]
  },
  {
   "cell_type": "markdown",
   "metadata": {},
   "source": [
    "Here's an example of extracting those coordinates for individual use."
   ]
  },
  {
   "cell_type": "code",
   "execution_count": 26,
   "metadata": {
    "collapsed": false
   },
   "outputs": [
    {
     "data": {
      "text/plain": [
       "(<SkyCoord (Galactic): (l, b) in deg\n",
       "     (280.79643055, -33.68811397)>, <Longitude 280.7964305504501 deg>)"
      ]
     },
     "execution_count": 26,
     "metadata": {},
     "output_type": "execute_result"
    }
   ],
   "source": [
    "fuseCoords.galactic[5],fuseCoords.galactic.l[5]"
   ]
  },
  {
   "cell_type": "markdown",
   "metadata": {},
   "source": [
    "### Step 3: add the (l,b) values into the table\n",
    "This shows us how we can readily convert the RA/Dec values to galactic coordinates. Now we'll put the Galactic coordinates back into the `fuse` table.  Be aware: this does not (evidently) save the units!"
   ]
  },
  {
   "cell_type": "code",
   "execution_count": 18,
   "metadata": {
    "collapsed": false
   },
   "outputs": [
    {
     "data": {
      "text/plain": [
       "['dataproduct_type',\n",
       " 'obs_collection',\n",
       " 'instrument_name',\n",
       " 'project',\n",
       " 'filters',\n",
       " 'wavelength_region',\n",
       " 'target_name',\n",
       " 'target_classification',\n",
       " 'obs_id',\n",
       " 's_ra',\n",
       " 's_dec',\n",
       " 'proposal_id',\n",
       " 'proposal_pi',\n",
       " 'calib_level',\n",
       " 't_min',\n",
       " 't_max',\n",
       " 't_exptime',\n",
       " 'em_min',\n",
       " 'em_max',\n",
       " 't_obs_release',\n",
       " 's_region',\n",
       " 'jpegURL',\n",
       " 'obsid',\n",
       " 'objID',\n",
       " 'gal_longitude',\n",
       " 'gal_latitude']"
      ]
     },
     "execution_count": 18,
     "metadata": {},
     "output_type": "execute_result"
    }
   ],
   "source": [
    "fuse['gal_longitude'] = fuseCoords.galactic.l\n",
    "fuse['gal_latitude'] = fuseCoords.galactic.b\n",
    "fuse.colnames"
   ]
  },
  {
   "cell_type": "markdown",
   "metadata": {},
   "source": [
    "### Step 4: select objects in the longitude/latitude range of interest (165 < l < 175, -15 < b < 15)\n",
    "There are two approaches to this. First we can use the `fuseCoords` coordinate variable to apply the constraints. "
   ]
  },
  {
   "cell_type": "code",
   "execution_count": 28,
   "metadata": {
    "collapsed": false
   },
   "outputs": [
    {
     "data": {
      "text/plain": [
       "31"
      ]
     },
     "execution_count": 28,
     "metadata": {},
     "output_type": "execute_result"
    }
   ],
   "source": [
    "perseusB=((np.absolute(fuseCoords.galactic.l-170.*u.deg) <= 5.*u.deg) &  \n",
    "          (np.absolute(fuseCoords.galactic.b) <= 15.*u.deg))\n",
    "perseusB.sum() ## This let's us tell how many meet the criteria."
   ]
  },
  {
   "cell_type": "markdown",
   "metadata": {},
   "source": [
    "Second we can use the columns in the `fuse` table to apply the constraints. (N.B. We do not use units on our l,b in this case!)"
   ]
  },
  {
   "cell_type": "code",
   "execution_count": 27,
   "metadata": {
    "collapsed": false
   },
   "outputs": [
    {
     "data": {
      "text/plain": [
       "31"
      ]
     },
     "execution_count": 27,
     "metadata": {},
     "output_type": "execute_result"
    }
   ],
   "source": [
    "perseusB=((np.absolute(fuse['gal_longitude']-170.) <= 5.) &  \n",
    "          (np.absolute(fuse['gal_latitude']) <= 15.))\n",
    "perseusB.sum() ## This let's us tell how many meet the criteria."
   ]
  },
  {
   "cell_type": "markdown",
   "metadata": {},
   "source": [
    "### Step 5: place constraints on the nature of the objects\n",
    "So, there are 31 objects observed in that coordinate range. Let's exclude some categories of object that aren't useful to further constrain things. \n",
    "\n",
    "*There is almost certainly a better way to select against these classifications. Perhaps creating a list of the bad ones and testing against that??*"
   ]
  },
  {
   "cell_type": "code",
   "execution_count": 15,
   "metadata": {
    "collapsed": false
   },
   "outputs": [
    {
     "data": {
      "text/plain": [
       "17"
      ]
     },
     "execution_count": 15,
     "metadata": {},
     "output_type": "execute_result"
    }
   ],
   "source": [
    "perseusB=((np.absolute(fuse['gal_longitude']-170.) <= 10.) &  \n",
    "          (np.absolute(fuse['gal_latitude']) <= 15.) & \n",
    "          (fuse['target_classification'] != 'T TAURI STARS') &\n",
    "          (fuse['target_classification'] != 'H II REGION') &\n",
    "          (fuse['target_classification'] != 'H II REGION') &\n",
    "          (fuse['target_classification'] != 'WDA') &\n",
    "          (fuse['target_classification'] != 'WDB') &\n",
    "          (fuse['target_classification'] != 'G I-III') &\n",
    "          (fuse['target_classification'] != 'F0-2') &\n",
    "          (fuse['target_classification'] != 'A0-3 IV-V') &\n",
    "          (fuse['target_classification'] != 'CENT. STAR PLAN. NEB.') &          \n",
    "          (fuse['target_classification'] != 'SKY BACKGROUND') &\n",
    "          (fuse['target_classification'] != 'DWARF NOVAE') &\n",
    "          (fuse['target_classification'] != 'B0-B2 V-IV') &\n",
    "          (fuse['target_classification'] != 'AE'))\n",
    "\n",
    "perseusB.sum() ## This let's us tell how many meet the criteria."
   ]
  },
  {
   "cell_type": "markdown",
   "metadata": {},
   "source": [
    "**Printing the selected objects:**\n",
    "* Print only those objects in `perseusB`\n",
    "* Print a subset of the columns\n",
    "* Don't show units\n",
    "* Print *all* rows, no matter how many."
   ]
  },
  {
   "cell_type": "code",
   "execution_count": 29,
   "metadata": {
    "collapsed": false,
    "scrolled": true
   },
   "outputs": [
    {
     "name": "stdout",
     "output_type": "stream",
     "text": [
      "target_name target_classification gal_longitude  gal_latitude \n",
      "----------- --------------------- ------------- --------------\n",
      "     GM-AUR         T TAURI STARS 172.567500932 -8.19333015368\n",
      "     GM-AUR         T TAURI STARS 172.567500932 -8.19333015368\n",
      "   HD034656          SUPERGIANT O 170.037986535  0.27053335684\n",
      "   HD039659 CENT. STAR PLAN. NEB. 166.156263836  10.4753337454\n",
      "   HD039659 CENT. STAR PLAN. NEB. 166.156263836  10.4753337454\n",
      "   HD039659 CENT. STAR PLAN. NEB. 166.156263836  10.4753337454\n",
      "    HD27786                   WDA 165.530700745 -10.7471520766\n",
      "    HD30675           B3-B5 III-I 173.605617482  -10.205209094\n",
      "    HD31293                    AE 172.499043809 -7.98079083593\n",
      "    HD31293                    AE 172.499044162 -7.98079111031\n",
      "    HD31647             A0-3 IV-V 167.150501594 -2.87683883077\n",
      "    HD33357  INTERACTING BINARIES 165.595575235  2.17376914755\n",
      "    HD33357  INTERACTING BINARIES 165.595575235  2.17376914755\n",
      "   HD33959C                   WDA 173.298827491 -3.35748380852\n",
      "    HD34078       MAIN SEQUENCE O 172.081320526 -2.25924099781\n",
      "    HD34078       MAIN SEQUENCE O 172.081320526 -2.25924099781\n",
      "    HD34078       MAIN SEQUENCE O 172.081320163 -2.25924074032\n",
      "    HD34078       MAIN SEQUENCE O 172.081320163 -2.25924074032\n",
      "    HD34078       MAIN SEQUENCE O 172.081320163 -2.25924074032\n",
      "    HD34078       MAIN SEQUENCE O 172.081320163 -2.25924074032\n",
      "    HD34078       MAIN SEQUENCE O 172.081320163 -2.25924074032\n",
      "    HD34078       MAIN SEQUENCE O 172.081320163 -2.25924074032\n",
      "   IC405-01           H II REGION 172.068212247 -2.27526478229\n",
      "   IC405-02           H II REGION 172.092159356 -2.24160522045\n",
      "   IC405-03           H II REGION 172.021044537  -2.1655586598\n",
      "   IC405-04           H II REGION 171.896316953 -2.12573766787\n",
      "   IC405-04           H II REGION 171.896316953 -2.12573766787\n",
      "     MWC480                    AE 173.465668375  -7.9022714709\n",
      "     MWC480                    AE 173.465758057 -7.90224793777\n",
      "     MWC480                    AE 173.465668375  -7.9022714709\n",
      "     SS-AUR           DWARF NOVAE 166.006307844  13.7997140366\n"
     ]
    }
   ],
   "source": [
    "fuse[perseusB]['target_name','target_classification',\n",
    "               'gal_longitude','gal_latitude'].pprint(show_unit=False,\n",
    "                                                      max_lines=-1)\n",
    "\n"
   ]
  },
  {
   "cell_type": "markdown",
   "metadata": {},
   "source": [
    "#### NOTES:\n",
    "1. HD34078 is AE Aur. Not a good candidate? \n",
    "2. HD34656 seems to be too close, not behind Perseus [d~2.3 kpc from Bowen+ (2008), Patriarchi+ (2003)].\n",
    "3. HD 41161 is too close at d~1.6 kpc.\n",
    "4. HD 33853 is an Algol binary...ugly.\n"
   ]
  },
  {
   "cell_type": "code",
   "execution_count": null,
   "metadata": {
    "collapsed": true
   },
   "outputs": [],
   "source": []
  }
 ],
 "metadata": {
  "anaconda-cloud": {},
  "kernelspec": {
   "display_name": "Python [conda root]",
   "language": "python",
   "name": "conda-root-py"
  },
  "language_info": {
   "codemirror_mode": {
    "name": "ipython",
    "version": 2
   },
   "file_extension": ".py",
   "mimetype": "text/x-python",
   "name": "python",
   "nbconvert_exporter": "python",
   "pygments_lexer": "ipython2",
   "version": "2.7.12"
  }
 },
 "nbformat": 4,
 "nbformat_minor": 1
}
