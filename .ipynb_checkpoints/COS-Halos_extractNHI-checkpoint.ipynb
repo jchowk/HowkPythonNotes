{
 "cells": [
  {
   "cell_type": "markdown",
   "metadata": {},
   "source": [
    "# COS-Halos v. GBT-AMIGA H I measurements\n",
    "\n",
    "Comparing the COS-Halos view of the CGM in H I with our GBT measurements."
   ]
  },
  {
   "cell_type": "markdown",
   "metadata": {},
   "source": [
    "### Standard imports"
   ]
  },
  {
   "cell_type": "code",
   "execution_count": 1,
   "metadata": {
    "collapsed": true
   },
   "outputs": [],
   "source": [
    "%matplotlib inline"
   ]
  },
  {
   "cell_type": "code",
   "execution_count": 2,
   "metadata": {
    "collapsed": true
   },
   "outputs": [],
   "source": [
    "import matplotlib.pyplot as plt\n",
    "import os\n",
    "import numpy as np\n",
    "import glob\n",
    "\n",
    "from astropy.io import fits\n",
    "from astropy.io import ascii\n",
    "\n",
    "\n",
    "##Automatic unit tracking + constants\n",
    "import astropy.units as u\n",
    "import astropy.constants as c\n",
    "\n",
    "from scipy import stats"
   ]
  },
  {
   "cell_type": "markdown",
   "metadata": {},
   "source": [
    "### Reading in the COS-Halos results\n",
    "\n",
    "The COS-Halos results, including the Prochaska+(2017) update are all stored in the `pyigm` module. It seems like it takes a bit of doing to get at the H I measurements. Let's work on that here."
   ]
  },
  {
   "cell_type": "code",
   "execution_count": 3,
   "metadata": {
    "collapsed": true
   },
   "outputs": [],
   "source": [
    "#COS-Halos through pyigm:\n",
    "import pyigm\n",
    "#from pyigm.cgm.cos_halos import COSHalos\n",
    "from pyigm.cgm import cos_halos as pch"
   ]
  },
  {
   "cell_type": "code",
   "execution_count": 4,
   "metadata": {
    "collapsed": false
   },
   "outputs": [
    {
     "name": "stderr",
     "output_type": "stream",
     "text": [
      "WARNING: UnitsWarning: The unit 'Angstrom' has been deprecated in the FITS standard. Suggested: 10**-1 nm. [astropy.units.format.utils]\n",
      "/Users/howk/anaconda/lib/python2.7/site-packages/linetools-0.2.dev1402-py2.7.egg/linetools/lists/linelist.py:374: RuntimeWarning: divide by zero encountered in log10\n",
      "  self._data['log(w*f)'] = np.log10(qm_strength)\n",
      "/Users/howk/anaconda/lib/python2.7/site-packages/numpy/ma/core.py:827: RuntimeWarning: invalid value encountered in less_equal\n",
      "  return umath.less_equal(x, self.critical_value)\n"
     ]
    },
    {
     "name": "stdout",
     "output_type": "stream",
     "text": [
      "Loading abundances from Asplund2009\n",
      "Abundances are relative by number on a logarithmic scale with H=12\n"
     ]
    },
    {
     "name": "stderr",
     "output_type": "stream",
     "text": [
      "/Users/howk/anaconda/lib/python2.7/site-packages/astropy/table/column.py:1095: MaskedArrayFutureWarning: setting an item on a masked array which has a shared mask will not copy the mask and also change the original mask array in the future.\n",
      "Check the NumPy 1.11 release notes for more information.\n",
      "  ma.MaskedArray.__setitem__(self, index, value)\n"
     ]
    },
    {
     "name": "stdout",
     "output_type": "stream",
     "text": [
      "Be patient, using /Users/howk/anaconda/lib/python2.7/site-packages/pyigm-0.1.dev456-py2.7.egg/pyigm/data/CGM/COS_Halos/cos-halos_systems.v1.1.tar.gz to load\n",
      "Skipping a likely folder: CGM_JSON\n"
     ]
    },
    {
     "name": "stderr",
     "output_type": "stream",
     "text": [
      "/Users/howk/anaconda/lib/python2.7/site-packages/pyigm-0.1.dev456-py2.7.egg/pyigm/cgm/cos_halos.py:262: UserWarning: This method will be DEPRECATED\n",
      "  warnings.warn(\"This method will be DEPRECATED\")\n"
     ]
    }
   ],
   "source": [
    "#Don't know if this is needed??\n",
    "reload(pch)\n",
    "cos_halos = pch.COSHalos()\n",
    "cos_halos.load_mega()#test=True)"
   ]
  },
  {
   "cell_type": "markdown",
   "metadata": {},
   "source": [
    "### Accessing the CGM data\n",
    "\n",
    "It appears that the stuff I want is stored in the `cgm_abs` tag?"
   ]
  },
  {
   "cell_type": "code",
   "execution_count": 6,
   "metadata": {
    "collapsed": false
   },
   "outputs": [
    {
     "data": {
      "text/plain": [
       "44"
      ]
     },
     "execution_count": 6,
     "metadata": {},
     "output_type": "execute_result"
    }
   ],
   "source": [
    "len(cos_halos.cgm_abs)"
   ]
  },
  {
   "cell_type": "code",
   "execution_count": 7,
   "metadata": {
    "collapsed": false
   },
   "outputs": [
    {
     "name": "stdout",
     "output_type": "stream",
     "text": [
      "<CGMAbsSys: J1233+4758_94_38 Galaxy RA/DEC=12:33:38.87+47:57:57.6, zgal=0.222103, rho=137.515 kpc>\n",
      "137.515410007\n",
      "(16.73913043478261, [0.05351170568561869, 0.02675585284280757], 1)\n"
     ]
    }
   ],
   "source": [
    "j=22\n",
    "print(cos_halos.cgm_abs[j])\n",
    "print(cos_halos.cgm_abs[j].rho.value)\n",
    "print(cos_halos.cgm_abs[j].NHI,cos_halos.cgm_abs[j].sig_NHI,\n",
    "      cos_halos.cgm_abs[j].flag_NHI)"
   ]
  },
  {
   "cell_type": "markdown",
   "metadata": {},
   "source": [
    "### HI in COS-Halos\n",
    "The COS-Halos HI data have error entries in its lists that are sometimes 2 elements, sometimes 1 element. \n",
    "\n",
    "*I'm not always sure what the errors/flags mean.* Here is what I *think* is the meaning:\n",
    "1. If **(err_up - err_down) > 0.5** dex, the system has a lower limit from the break and an upper limit from lack of damping wings on Lya. The range encompassed by NHI-err_down to NHI+err_up is all equally viable.\n",
    "\n",
    "2. If **flag_NHI = 3**, the NHI is a 95% upper limit on N(HI).\n",
    "3. If **flag_NHI = 2** then see JXP's explanation:\n",
    ">Anyhow, flag=2 means a lower limit and indeed that is the correct evaluation for this one.  Saturated Lyb (and Lya) and nothing else to work with.  I didn't analyze it myself as there are no apparent metal lines.\n",
    ">\n",
    ">Not sure I'd quite agree with Jess' upper bound but 18.0 would be fine.\n",
    "\n",
    "Here are  what a few  of the  H I datasets look like:"
   ]
  },
  {
   "cell_type": "code",
   "execution_count": 8,
   "metadata": {
    "collapsed": false
   },
   "outputs": [
    {
     "name": "stdout",
     "output_type": "stream",
     "text": [
      "(u'J0910+1014_34_46', 17.25, [1.25, 1.25], 1)\n",
      "(u'J0914+2823_41_27', 15.452030181884766, 0.027630334720015526, 1)\n",
      "(u'J0925+4004_196_22', 19.549999237060547, 0.15000000596046448, 1)\n",
      "(u'J0928+6025_110_35', 19.350000381469727, 0.15000000596046448, 1)\n",
      "(u'J0935+0204_15_28', 12.67929744720459, -9.989999771118164, 3)\n",
      "(u'J0943+0531_106_34', 16.244147157190636, 0.05258878320455551, 3)\n",
      "(u'J0943+0531_216_61', 14.883265495300293, 0.06319866329431534, 2)\n",
      "(u'J0943+0531_227_19', 16.64655687740931, 0.038834087550640106, 3)\n",
      "(u'J0950+4831_177_27', 18.2, [0.3000000000000007, 0.3000000000000007], 1)\n",
      "(u'J1009+0713_170_9', 18.5, [0.5, 0.5], 1)\n"
     ]
    }
   ],
   "source": [
    "for j in np.arange(10)+4: print(cos_halos.cgm_abs[j].name,\n",
    "                              cos_halos.cgm_abs[j].NHI,\n",
    "                              cos_halos.cgm_abs[j].sig_NHI,\n",
    "                              cos_halos.cgm_abs[j].flag_NHI)"
   ]
  },
  {
   "cell_type": "markdown",
   "metadata": {},
   "source": [
    "An example of a lower limit where the lower limit gives  rise to a flat prior:  J0950+4831_177_27."
   ]
  },
  {
   "cell_type": "code",
   "execution_count": 9,
   "metadata": {
    "collapsed": false
   },
   "outputs": [
    {
     "data": {
      "text/plain": [
       "(1, 18.2, [0.3000000000000007, 0.3000000000000007])"
      ]
     },
     "execution_count": 9,
     "metadata": {},
     "output_type": "execute_result"
    }
   ],
   "source": [
    "cgm = cos_halos[('J0950+4831','177_27')]\n",
    "cgm.igm_sys.flag_NHI, cgm.igm_sys.NHI, cgm.igm_sys.sig_NHI"
   ]
  },
  {
   "cell_type": "code",
   "execution_count": 21,
   "metadata": {
    "collapsed": false
   },
   "outputs": [
    {
     "data": {
      "text/plain": [
       "(2, 14.883265495300293, 0.06319866329431534)"
      ]
     },
     "execution_count": 21,
     "metadata": {},
     "output_type": "execute_result"
    }
   ],
   "source": [
    "cgm = cos_halos[('J0943+0531','216_61')]\n",
    "cgm.igm_sys.flag_NHI, cgm.igm_sys.NHI, cgm.igm_sys.sig_NHI"
   ]
  },
  {
   "cell_type": "markdown",
   "metadata": {},
   "source": [
    "### Creating our own versions\n",
    "The COS-Halos information is stored as a list. Here's an example of pulling out a specific target from the list of names and looking at its impact parameter, column density, and column error.\n",
    "\n",
    "In this treatment we have:\n",
    "1. **flag_NHI=4:** Flat prior between NHI+sig_NHI[0] and NHI+sig_NHI[1].  This comes from systems with (sig_NHI).sum() > 0.5 dex.\n",
    "2. **flag_NHI = 3:** NHI is a 95% upper limit on N(HI).\n",
    "3. **flag_NHI = 2:** Change this to be flag_NHI=4 with NHI=16.44, errs=1.559\n",
    "4. **flag_NHI = 1:** Normal measurement."
   ]
  },
  {
   "cell_type": "code",
   "execution_count": 22,
   "metadata": {
    "collapsed": false
   },
   "outputs": [],
   "source": [
    "ch_name = []\n",
    "ch_z = []\n",
    "ch_rho = []\n",
    "ch_NHI = []\n",
    "ch_sigNHI = []\n",
    "ch_flagNHI = []\n",
    "\n",
    "for ch in cos_halos.cgm_abs: \n",
    "    ch_name.append(ch.name)\n",
    "    ch_z.append(ch.z)\n",
    "    ch_rho.append(ch.rho.value)\n",
    "    ch_NHI.append(ch.NHI)\n",
    "    #Here we add an array [0,0] to sig_NHI, which ensures\n",
    "    #  it is a 2-element array.\n",
    "    sigTemp = ch.sig_NHI+np.zeros(2)\n",
    "    ch_sigNHI.append(sigTemp)\n",
    "    if (sigTemp.sum() >= 0.5):\n",
    "        flagTemp=4\n",
    "    else:\n",
    "        flagTemp=ch.flag_NHI\n",
    "    ch_flagNHI.append(flagTemp)"
   ]
  },
  {
   "cell_type": "markdown",
   "metadata": {},
   "source": [
    "***Not FINISHED***\n",
    "Fix flag=2:"
   ]
  },
  {
   "cell_type": "code",
   "execution_count": 24,
   "metadata": {
    "collapsed": false
   },
   "outputs": [
    {
     "ename": "TypeError",
     "evalue": "list indices must be integers, not tuple",
     "output_type": "error",
     "traceback": [
      "\u001b[0;31m---------------------------------------------------------------------------\u001b[0m",
      "\u001b[0;31mTypeError\u001b[0m                                 Traceback (most recent call last)",
      "\u001b[0;32m<ipython-input-24-390164023382>\u001b[0m in \u001b[0;36m<module>\u001b[0;34m()\u001b[0m\n\u001b[1;32m      4\u001b[0m \u001b[0mbad\u001b[0m\u001b[0;34m=\u001b[0m\u001b[0;34m(\u001b[0m\u001b[0mch_flagNHI\u001b[0m \u001b[0;34m==\u001b[0m \u001b[0;36m2\u001b[0m\u001b[0;34m)\u001b[0m\u001b[0;34m\u001b[0m\u001b[0m\n\u001b[1;32m      5\u001b[0m \u001b[0mbadNHImax\u001b[0m \u001b[0;34m=\u001b[0m \u001b[0;36m18.0\u001b[0m\u001b[0;34m\u001b[0m\u001b[0m\n\u001b[0;32m----> 6\u001b[0;31m \u001b[0mch_sigNHI\u001b[0m\u001b[0;34m[\u001b[0m\u001b[0mbad\u001b[0m\u001b[0;34m,\u001b[0m\u001b[0;36m0\u001b[0m\u001b[0;34m]\u001b[0m \u001b[0;34m=\u001b[0m \u001b[0;34m(\u001b[0m\u001b[0mbadNHImax\u001b[0m \u001b[0;34m-\u001b[0m \u001b[0mch_NHI\u001b[0m\u001b[0;34m[\u001b[0m\u001b[0mbad\u001b[0m\u001b[0;34m]\u001b[0m\u001b[0;34m)\u001b[0m\u001b[0;34m/\u001b[0m\u001b[0;36m2.\u001b[0m\u001b[0;34m\u001b[0m\u001b[0m\n\u001b[0m\u001b[1;32m      7\u001b[0m \u001b[0mch_sigNHI\u001b[0m\u001b[0;34m[\u001b[0m\u001b[0mbad\u001b[0m\u001b[0;34m,\u001b[0m\u001b[0;36m1\u001b[0m\u001b[0;34m]\u001b[0m \u001b[0;34m=\u001b[0m \u001b[0;34m(\u001b[0m\u001b[0mbadNHImax\u001b[0m \u001b[0;34m-\u001b[0m \u001b[0mch_NHI\u001b[0m\u001b[0;34m[\u001b[0m\u001b[0mbad\u001b[0m\u001b[0;34m]\u001b[0m\u001b[0;34m)\u001b[0m\u001b[0;34m/\u001b[0m\u001b[0;36m2.\u001b[0m\u001b[0;34m\u001b[0m\u001b[0m\n\u001b[1;32m      8\u001b[0m \u001b[0;34m\u001b[0m\u001b[0m\n",
      "\u001b[0;31mTypeError\u001b[0m: list indices must be integers, not tuple"
     ]
    }
   ],
   "source": [
    "##########\n",
    "## We have to make a correction for the flag=2\n",
    "\n",
    "bad=(ch_flagNHI == 2)\n",
    "badNHImax = 18.0\n",
    "ch_sigNHI[bad,0] = (badNHImax - ch_NHI[bad])/2.\n",
    "ch_sigNHI[bad,1] = (badNHImax - ch_NHI[bad])/2.\n",
    "\n",
    "ch_NHI[bad] = badNHImax -  (badNHImax - ch_NHI[bad])/2.\n",
    "ch_flagNHI[bad] = 4\n",
    "\n",
    "ch_z[bad],ch_NHI[bad],ch_sigNHI[bad]"
   ]
  },
  {
   "cell_type": "markdown",
   "metadata": {},
   "source": [
    "Now we make life easier on ourselves by making  these into NumPy arrays. Then we'll pack these into an `OrderedDict`."
   ]
  },
  {
   "cell_type": "code",
   "execution_count": null,
   "metadata": {
    "collapsed": true
   },
   "outputs": [],
   "source": [
    "ch_name=np.array(ch_name)\n",
    "ch_z=np.array(ch_z)\n",
    "ch_rho=np.array(ch_rho)\n",
    "ch_NHI=np.array(ch_NHI)\n",
    "ch_sigNHI=np.array(ch_sigNHI)\n",
    "ch_flagNHI=np.array(ch_flagNHI)\n",
    "\n",
    "#Pack into dictionary:\n",
    "#Here we use an OrderedDict to keep the order I want.\n",
    "from collections import OrderedDict\n",
    "\n",
    "ch_temp = OrderedDict()\n",
    "ch_temp['name'] = ch_name\n",
    "ch_temp['z'] = np.round(ch_z,6)\n",
    "ch_temp['rho'] = np.round(ch_rho,2)\n",
    "ch_temp['NHI'] = np.round(ch_NHI,3)\n",
    "ch_temp['sigNHIlower'] = np.round(ch_sigNHI[:,0],3)\n",
    "ch_temp['sigNHIupper'] = np.round(ch_sigNHI[:,1],3)\n",
    "ch_temp['flagNHI'] = ch_flagNHI"
   ]
  },
  {
   "cell_type": "markdown",
   "metadata": {},
   "source": [
    "Having put it in an easy format to work with, we go two steps further: 1)  create an astropy table; 2) write the table for easy use in our figures."
   ]
  },
  {
   "cell_type": "code",
   "execution_count": 92,
   "metadata": {
    "collapsed": false
   },
   "outputs": [],
   "source": [
    "#Convert this to an astropy Table\n",
    "from astropy.table import Table, Column\n",
    "ch_table=Table(ch_temp)\n",
    "\n",
    "#Write the Table to a file in fixed_width format:\n",
    "outputCHtable='COSHalos.NHI.dat'\n",
    "ascii.write(ch_table,outputCHtable,format='fixed_width')"
   ]
  },
  {
   "cell_type": "markdown",
   "metadata": {},
   "source": [
    "If we do this, our galaxies  can be  accessed:"
   ]
  },
  {
   "cell_type": "code",
   "execution_count": 96,
   "metadata": {
    "collapsed": false
   },
   "outputs": [
    {
     "name": "stdout",
     "output_type": "stream",
     "text": [
      "      name          z      rho    NHI   sigNHIlower sigNHIupper flagNHI\n",
      "---------------- -------- ------ ------ ----------- ----------- -------\n",
      "J0914+2823_41_27 0.244314 106.27 15.452       0.028       0.028       1\n",
      "   z    \n",
      "--------\n",
      "0.244314\n"
     ]
    }
   ],
   "source": [
    "targName='J0950+4831_177_27'\n",
    "targName='J0914+2823_41_27'\n",
    "\n",
    "#index=ch_name.index(targName)\n",
    "index=(ch_table['name'] == targName)\n",
    "print(ch_table[index])\n",
    "print(ch_table['z'][index])"
   ]
  },
  {
   "cell_type": "markdown",
   "metadata": {},
   "source": [
    "#### Quick & Dirty COSHalos plots:"
   ]
  },
  {
   "cell_type": "code",
   "execution_count": 97,
   "metadata": {
    "collapsed": false
   },
   "outputs": [],
   "source": [
    "measure = (ch_table['flagNHI'] == 1) \n",
    "upperLimits = (ch_table['flagNHI'] == 3)\n",
    "lowerLimits = (ch_table['flagNHI'] == 4)"
   ]
  },
  {
   "cell_type": "code",
   "execution_count": 103,
   "metadata": {
    "collapsed": false,
    "scrolled": false
   },
   "outputs": [
    {
     "data": {
      "text/plain": [
       "(0, 350)"
      ]
     },
     "execution_count": 103,
     "metadata": {},
     "output_type": "execute_result"
    },
    {
     "data": {
      "image/png": "[encoded data removed]",
      "text/plain": [
       "<matplotlib.figure.Figure at 0x1142cbb50>"
      ]
     },
     "metadata": {},
     "output_type": "display_data"
    }
   ],
   "source": [
    "limitLength=0.3\n",
    "fig = plt.figure(figsize=[8,4])\n",
    "ax1 = fig.add_subplot(111)\n",
    "ch_detect=ax1.errorbar(ch_table['rho'][measure],\n",
    "                       ch_table['NHI'][measure],\n",
    "                      yerr=[ch_table['sigNHIlower'][measure],\n",
    "                            ch_table['sigNHIupper'][measure]],\n",
    "                      color='w',ls='',\n",
    "                      marker='o',markersize=8,markeredgewidth=1.25,\n",
    "                      ecolor='k',elinewidth=2,capthick=3,capsize=4.)\n",
    "\n",
    "ch_upper=ax1.errorbar(ch_table['rho'][upperLimits],\n",
    "                      ch_table['NHI'][upperLimits],\n",
    "                      uplims=ch_table['NHI'][upperLimits],\n",
    "                      yerr=limitLength,\n",
    "                      color='w',ls='',marker='o',\n",
    "                      markersize=8,markeredgewidth=1.25,\n",
    "                      ecolor='k',elinewidth=2,capthick=1,capsize=3)\n",
    "\n",
    "ch_lower=ax1.errorbar(ch_table['rho'][lowerLimits],\n",
    "                       ch_table['NHI'][lowerLimits],\n",
    "                      yerr=[ch_table['sigNHIlower'][lowerLimits],\n",
    "                            ch_table['sigNHIupper'][lowerLimits]],\n",
    "                      color='w',ls='',marker='',\n",
    "                      markersize=8,markeredgewidth=1.25,\n",
    "                      ecolor='k',elinewidth=2,capthick=3,capsize=4)\n",
    "#Set the limits to be similar to M31:\n",
    "ax1.set_ylim([16.,20])\n",
    "ax1.set_xlim([0,350])"
   ]
  },
  {
   "cell_type": "markdown",
   "metadata": {},
   "source": [
    "# FOR LATER:\n",
    "\n",
    "1. Calculate covering factors."
   ]
  },
  {
   "cell_type": "code",
   "execution_count": null,
   "metadata": {
    "collapsed": true
   },
   "outputs": [],
   "source": []
  }
 ],
 "metadata": {
  "anaconda-cloud": {},
  "kernelspec": {
   "display_name": "Python [conda root]",
   "language": "python",
   "name": "conda-root-py"
  },
  "language_info": {
   "codemirror_mode": {
    "name": "ipython",
    "version": 2
   },
   "file_extension": ".py",
   "mimetype": "text/x-python",
   "name": "python",
   "nbconvert_exporter": "python",
   "pygments_lexer": "ipython2",
   "version": "2.7.13"
  }
 },
 "nbformat": 4,
 "nbformat_minor": 0
}
