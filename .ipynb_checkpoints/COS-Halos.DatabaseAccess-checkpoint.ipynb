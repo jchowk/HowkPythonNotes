{
 "cells": [
  {
   "cell_type": "markdown",
   "metadata": {},
   "source": [
    "# Accessing COS-Halos from `pyigm`\n"
   ]
  },
  {
   "cell_type": "code",
   "execution_count": 1,
   "metadata": {
    "collapsed": true
   },
   "outputs": [],
   "source": [
    "%matplotlib inline"
   ]
  },
  {
   "cell_type": "code",
   "execution_count": 2,
   "metadata": {
    "collapsed": true
   },
   "outputs": [],
   "source": [
    "import matplotlib.pyplot as plt\n",
    "import numpy as np\n",
    "from scipy import stats\n",
    "from scipy.interpolate import interp1d \n",
    "\n",
    "from astropy.io import fits\n",
    "from astropy.io import ascii"
   ]
  },
  {
   "cell_type": "code",
   "execution_count": 3,
   "metadata": {
    "collapsed": true
   },
   "outputs": [],
   "source": [
    "import pandas\n",
    "from astropy.utils.data import download_file\n",
    "import subprocess"
   ]
  },
  {
   "cell_type": "markdown",
   "metadata": {},
   "source": [
    "# COS-Halos:"
   ]
  },
  {
   "cell_type": "code",
   "execution_count": 4,
   "metadata": {
    "collapsed": true
   },
   "outputs": [
    {
     "name": "stderr",
     "output_type": "stream",
     "text": [
      "WARNING: UnitsWarning: The unit 'Angstrom' has been deprecated in the FITS standard. Suggested: 10**-1 nm. [astropy.units.format.utils]\n",
      "/Users/howk/anaconda/lib/python2.7/site-packages/linetools-0.2.dev1267-py2.7.egg/linetools/lists/linelist.py:374: RuntimeWarning: divide by zero encountered in log10\n",
      "  self._data['log(w*f)'] = np.log10(qm_strength)\n",
      "/Users/howk/anaconda/lib/python2.7/site-packages/numpy/ma/core.py:867: RuntimeWarning: invalid value encountered in less_equal\n",
      "  return umath.less_equal(x, self.critical_value)\n"
     ]
    },
    {
     "name": "stdout",
     "output_type": "stream",
     "text": [
      "Loading abundances from Asplund2009\n",
      "Abundances are relative by number on a logarithmic scale with H=12\n"
     ]
    },
    {
     "name": "stderr",
     "output_type": "stream",
     "text": [
      "/Users/howk/anaconda/lib/python2.7/site-packages/astropy/table/column.py:1096: MaskedArrayFutureWarning: setting an item on a masked array which has a shared mask will not copy the mask and also change the original mask array in the future.\n",
      "Check the NumPy 1.11 release notes for more information.\n",
      "  ma.MaskedArray.__setitem__(self, index, value)\n"
     ]
    },
    {
     "name": "stdout",
     "output_type": "stream",
     "text": [
      "Be patient, using /Users/howk/anaconda/lib/python2.7/site-packages/pyigm-0.1.dev535-py2.7.egg/pyigm/data/CGM/COS_Halos/cos-halos_systems.v1.1.tar.gz to load\n",
      "Skipping a likely folder: CGM_JSON\n"
     ]
    },
    {
     "name": "stderr",
     "output_type": "stream",
     "text": [
      "/Users/howk/anaconda/lib/python2.7/site-packages/pyigm-0.1.dev535-py2.7.egg/pyigm/cgm/cos_halos.py:262: UserWarning: This method will be DEPRECATED\n",
      "  warnings.warn(\"This method will be DEPRECATED\")\n"
     ]
    }
   ],
   "source": [
    "# imports\n",
    "import pdb\n",
    "from pyigm.cgm.cos_halos import COSHalos\n",
    "from pyigm.cgm import cos_halos as pch\n",
    "\n",
    "reload(pch)\n",
    "cos_halos = pch.COSHalos()\n",
    "cos_halos.load_mega()"
   ]
  },
  {
   "cell_type": "markdown",
   "metadata": {},
   "source": [
    "## Accessing metal ion columns\n",
    "It seems the following is a path to accessing the adopted (?) metal ion columns."
   ]
  },
  {
   "cell_type": "code",
   "execution_count": 5,
   "metadata": {
    "collapsed": true
   },
   "outputs": [],
   "source": [
    "ions = cos_halos.ion_tbl\n",
    "SiII = [14,2] #[Z_metal, ionic state]\n",
    "SiIItable = ions(SiII,fill_ion=True)"
   ]
  },
  {
   "cell_type": "code",
   "execution_count": 6,
   "metadata": {
    "collapsed": false,
    "scrolled": false
   },
   "outputs": [
    {
     "data": {
      "text/plain": [
       "['name',\n",
       " 'Z',\n",
       " 'ion',\n",
       " 'A',\n",
       " 'Ej',\n",
       " 'z',\n",
       " 'vmin',\n",
       " 'vmax',\n",
       " 'flag_N',\n",
       " 'logN',\n",
       " 'sig_logN',\n",
       " 'cgm_name']"
      ]
     },
     "execution_count": 6,
     "metadata": {},
     "output_type": "execute_result"
    }
   ],
   "source": [
    "SiIItable.colnames"
   ]
  },
  {
   "cell_type": "code",
   "execution_count": 8,
   "metadata": {
    "collapsed": false,
    "scrolled": true
   },
   "outputs": [
    {
     "data": {
      "text/html": [
       "&lt;Table length=43&gt;\n",
       "<table id=\"table4513511504\" class=\"table-striped table-bordered table-condensed\">\n",
       "<thead><tr><th>name</th><th>z</th><th>logN</th><th>sig_logN</th><th>flag_N</th><th>cgm_name</th></tr></thead>\n",
       "<thead><tr><th>unicode32</th><th>float64</th><th>float64</th><th>float64</th><th>int64</th><th>unicode17</th></tr></thead>\n",
       "<tr><td>J022614.5+001529.8_z0.227</td><td>0.227439895272</td><td>12.8962248284</td><td>9.0</td><td>3</td><td>J0226+0015_268_22</td></tr>\n",
       "<tr><td>J040149-054056.6_z0.220</td><td>0.21968537569</td><td>12.4730929207</td><td>9.0</td><td>3</td><td>J0401-0540_67_24</td></tr>\n",
       "<tr><td>J080359.2+433258.4_z0.253</td><td>0.253473222256</td><td>12.676755793</td><td>9.0</td><td>3</td><td>J0803+4332_306_20</td></tr>\n",
       "<tr><td>J091029.8+101413.6_z0.264</td><td>0.264117896557</td><td>13.1521204431</td><td>0.129606187344</td><td>1</td><td>J0910+1014_242_34</td></tr>\n",
       "<tr><td>J091029.8+101413.6_z0.143</td><td>0.142737910151</td><td>12.8889483284</td><td>0.0817173346877</td><td>1</td><td>J0910+1014_34_46</td></tr>\n",
       "<tr><td>J091440.4+282330.6_z0.244</td><td>0.244313806295</td><td>12.5580061745</td><td>9.0</td><td>3</td><td>J0914+2823_41_27</td></tr>\n",
       "<tr><td>J092554.7+400414.1_z0.247</td><td>0.247452750802</td><td>14.4862854201</td><td>1.4032468817e-13</td><td>2</td><td>J0925+4004_196_22</td></tr>\n",
       "<tr><td>J092838+602521_z0.154</td><td>0.154000431299</td><td>14.8278713761</td><td>6.39069556969e-14</td><td>2</td><td>J0928+6025_110_35</td></tr>\n",
       "<tr><td>J093518.2+020415.5_z0.262</td><td>0.262280136347</td><td>13.2387255151</td><td>9.0</td><td>3</td><td>J0935+0204_15_28</td></tr>\n",
       "<tr><td>J094331.6+053131.5_z0.228</td><td>0.228385850787</td><td>12.6270636391</td><td>9.0</td><td>3</td><td>J0943+0531_106_34</td></tr>\n",
       "<tr><td>...</td><td>...</td><td>...</td><td>...</td><td>...</td><td>...</td></tr>\n",
       "<tr><td>J143511.5+360437.2_z0.202</td><td>0.202365607023</td><td>14.1774923522</td><td>2.85711126641e-13</td><td>2</td><td>J1435+3604_68_12</td></tr>\n",
       "<tr><td>J143726.1+504555.8_z0.246</td><td>0.245999068022</td><td>12.974298365</td><td>9.0</td><td>3</td><td>J1437+5045_317_38</td></tr>\n",
       "<tr><td>J144511.3+342825.5_z0.218</td><td>0.217640265822</td><td>12.9441841912</td><td>9.0</td><td>3</td><td>J1445+3428_232_33</td></tr>\n",
       "<tr><td>J151428.6+361958_z0.212</td><td>0.212227344513</td><td>13.0842722725</td><td>9.0</td><td>3</td><td>J1514+3619_287_14</td></tr>\n",
       "<tr><td>J155048.3+400144.9_z0.312</td><td>0.312467426062</td><td>12.7429808449</td><td>9.0</td><td>3</td><td>J1550+4001_197_23</td></tr>\n",
       "<tr><td>J155048.3+400144.9_z0.322</td><td>0.321785420179</td><td>12.8916949105</td><td>9.0</td><td>3</td><td>J1550+4001_97_33</td></tr>\n",
       "<tr><td>J155504.4+362848_z0.189</td><td>0.189296558499</td><td>13.3460909845</td><td>0.0536708828642</td><td>1</td><td>J1555+3628_88_11</td></tr>\n",
       "<tr><td>J161916.5+334238.4_z0.141</td><td>0.141366973519</td><td>12.3503569435</td><td>9.0</td><td>3</td><td>J1619+3342_113_40</td></tr>\n",
       "<tr><td>J225738.2+134045.5_z0.177</td><td>0.17675049603</td><td>12.4606388878</td><td>9.0</td><td>3</td><td>J2257+1340_270_40</td></tr>\n",
       "<tr><td>J234500.4-005936.1_z0.254</td><td>0.253890156746</td><td>12.6506747078</td><td>9.0</td><td>3</td><td>J2345-0059_356_12</td></tr>\n",
       "</table>"
      ],
      "text/plain": [
       "<Table length=43>\n",
       "           name                 z        ... flag_N      cgm_name    \n",
       "        unicode32            float64     ... int64      unicode17    \n",
       "------------------------- -------------- ... ------ -----------------\n",
       "J022614.5+001529.8_z0.227 0.227439895272 ...      3 J0226+0015_268_22\n",
       "  J040149-054056.6_z0.220  0.21968537569 ...      3  J0401-0540_67_24\n",
       "J080359.2+433258.4_z0.253 0.253473222256 ...      3 J0803+4332_306_20\n",
       "J091029.8+101413.6_z0.264 0.264117896557 ...      1 J0910+1014_242_34\n",
       "J091029.8+101413.6_z0.143 0.142737910151 ...      1  J0910+1014_34_46\n",
       "J091440.4+282330.6_z0.244 0.244313806295 ...      3  J0914+2823_41_27\n",
       "J092554.7+400414.1_z0.247 0.247452750802 ...      2 J0925+4004_196_22\n",
       "    J092838+602521_z0.154 0.154000431299 ...      2 J0928+6025_110_35\n",
       "J093518.2+020415.5_z0.262 0.262280136347 ...      3  J0935+0204_15_28\n",
       "J094331.6+053131.5_z0.228 0.228385850787 ...      3 J0943+0531_106_34\n",
       "                      ...            ... ...    ...               ...\n",
       "J143511.5+360437.2_z0.202 0.202365607023 ...      2  J1435+3604_68_12\n",
       "J143726.1+504555.8_z0.246 0.245999068022 ...      3 J1437+5045_317_38\n",
       "J144511.3+342825.5_z0.218 0.217640265822 ...      3 J1445+3428_232_33\n",
       "  J151428.6+361958_z0.212 0.212227344513 ...      3 J1514+3619_287_14\n",
       "J155048.3+400144.9_z0.312 0.312467426062 ...      3 J1550+4001_197_23\n",
       "J155048.3+400144.9_z0.322 0.321785420179 ...      3  J1550+4001_97_33\n",
       "  J155504.4+362848_z0.189 0.189296558499 ...      1  J1555+3628_88_11\n",
       "J161916.5+334238.4_z0.141 0.141366973519 ...      3 J1619+3342_113_40\n",
       "J225738.2+134045.5_z0.177  0.17675049603 ...      3 J2257+1340_270_40\n",
       "J234500.4-005936.1_z0.254 0.253890156746 ...      3 J2345-0059_356_12"
      ]
     },
     "execution_count": 8,
     "metadata": {},
     "output_type": "execute_result"
    }
   ],
   "source": [
    "gg = np.where(SiIItable['flag_N'] > 0.005)\n",
    "SiIItable[gg]['name','z','logN','sig_logN','flag_N','cgm_name']"
   ]
  },
  {
   "cell_type": "markdown",
   "metadata": {},
   "source": [
    "### Flags:\n",
    "* 0 = Not observed\n",
    "* 1 = Measurement\n",
    "* 2 = Lower limit [*saturated*]\n",
    "* 3 = Upper limit [*non-detection*]\n",
    "\n",
    "```\n",
    "\n",
    "```"
   ]
  },
  {
   "cell_type": "markdown",
   "metadata": {},
   "source": [
    "## Notes on structure of COS-Halos data\n",
    "\n",
    "* The information in COS-Halos array is split between `cgm_abs` and `galaxy` information.\n",
    "* The absorption details are stored in `.igm_sys` within the `cgm_abs` bit.\n",
    "* To access the CGM information best, it seems to help to do `absorber = cos_halos.cgm_abs[j].igm_sys`, where `j` is the specific system.\n",
    "* Within the `cgm_abs` bit, the individual ions are stored. One can assess which are available using `.list_of_abslines()`.\n",
    "* Individual abs. lines are accessible, e.g., via `.get_absline('SiIII 1206').attrib`, which has a dict of information."
   ]
  },
  {
   "cell_type": "markdown",
   "metadata": {},
   "source": [
    "** Examples using the COS-Halos data **"
   ]
  },
  {
   "cell_type": "code",
   "execution_count": 32,
   "metadata": {
    "collapsed": true
   },
   "outputs": [],
   "source": [
    "j = 12\n",
    "absorber = cos_halos.cgm_abs[j].igm_sys"
   ]
  },
  {
   "cell_type": "code",
   "execution_count": 55,
   "metadata": {
    "collapsed": false
   },
   "outputs": [
    {
     "data": {
      "text/plain": [
       "<AbsLine: SiII 1190, z=0.2119 wrest=1190.4158 Angstrom>"
      ]
     },
     "execution_count": 55,
     "metadata": {},
     "output_type": "execute_result"
    }
   ],
   "source": [
    "#Look at which lines are available\n",
    "xxx = absorber.list_of_abslines()\n",
    "k = 3\n",
    "yyy=xxx[k]\n",
    "yyy"
   ]
  },
  {
   "cell_type": "code",
   "execution_count": 66,
   "metadata": {
    "collapsed": false
   },
   "outputs": [
    {
     "name": "stdout",
     "output_type": "stream",
     "text": [
      "(array(['SiIII 1206'], \n",
      "      dtype='|S10'), 1)\n",
      "(array(['SiIII 1206'], \n",
      "      dtype='|S10'), (array([30]),))\n"
     ]
    }
   ],
   "source": [
    "#Test for a line\n",
    "lines = absorber.list_of_abslines()\n",
    "trans = np.array([iline.name for iline in lines])\n",
    "aline = (trans == 'SiIII 1206')\n",
    "print(trans[aline],aline.sum())\n",
    "\n",
    "#Or\n",
    "aline = np.where(trans == 'SiIII 1206')\n",
    "print(trans[aline],aline)"
   ]
  },
  {
   "cell_type": "code",
   "execution_count": 75,
   "metadata": {
    "collapsed": false
   },
   "outputs": [
    {
     "name": "stdout",
     "output_type": "stream",
     "text": [
      "(array(['SiIII 1206'], \n",
      "      dtype='|S10'), 1)\n",
      "[ 13.741   0.034   2.   ]\n"
     ]
    }
   ],
   "source": [
    "#Test for a line\n",
    "lines = absorber.list_of_abslines()\n",
    "trans = np.array([iline.name for iline in lines])\n",
    "aline = (trans == 'SiIII 1206')\n",
    "print(trans[aline],aline.sum())\n",
    "      \n",
    "#Access a specific line\n",
    "if (aline.sum() > 0):\n",
    "    xxx=absorber.get_absline('SiIII 1206').attrib\n",
    "    print(np.round([xxx['logN'],xxx['sig_logN'],xxx['flag_N']],3))"
   ]
  },
  {
   "cell_type": "markdown",
   "metadata": {},
   "source": [
    "## Create arrays to hold H I, Si III columns from COS-Halos\n",
    "\n",
    "This requires some looping, as you can't access the information in the list *en masse.* \n",
    "\n",
    "Also, we have to make sure to test for Si III, as not all of the absorbers include Si III."
   ]
  },
  {
   "cell_type": "code",
   "execution_count": 85,
   "metadata": {
    "collapsed": true
   },
   "outputs": [],
   "source": [
    "#Create the arrays:\n",
    "ch_name = []\n",
    "ch_z = []\n",
    "ch_rho = []\n",
    "ch_rvir = []\n",
    "ch_halomass = []\n",
    "ch_stellarmass = []\n",
    "#NHI\n",
    "ch_NHI = []\n",
    "ch_sigNHI = []\n",
    "ch_flagNHI = []\n",
    "#NSiIII\n",
    "ch_NSiIII = []\n",
    "ch_sigNSiIII = []\n",
    "ch_flagNSiIII = []"
   ]
  },
  {
   "cell_type": "code",
   "execution_count": 86,
   "metadata": {
    "collapsed": false
   },
   "outputs": [],
   "source": [
    "#Fill the arrays\n",
    "for j in np.arange(0,cos_halos.nsys):\n",
    "    absorber = cos_halos.cgm_abs[j].igm_sys\n",
    "\n",
    "    #Test for Si III line\n",
    "    lines = absorber.list_of_abslines()\n",
    "    trans = np.array([iline.name for iline in lines])\n",
    "    aline = (trans == 'SiIII 1206')\n",
    "      \n",
    "    #Access a specific line\n",
    "    if (aline.sum() > 0):\n",
    "        si3 = absorber.get_absline('SiIII 1206').attrib\n",
    "        ch_NSiIII.append(si3['logN'])\n",
    "        ch_sigNSiIII.append(si3['sig_logN'])\n",
    "        ch_flagNSiIII.append(si3['flag_N'])\n",
    "    else:\n",
    "        ch_NSiIII.append(0.0)\n",
    "        ch_sigNSiIII.append(99.)\n",
    "        ch_flagNSiIII.append(99.)\n",
    "\n",
    "    \n",
    "for ch in cos_halos.cgm_abs:     \n",
    "    ch_name.append(ch.name)\n",
    "    ch_z.append(ch.z)\n",
    "    ch_rho.append(ch.rho.value)\n",
    " \n",
    "    ch_NHI.append(ch.NHI)\n",
    "    #Here we add an array [0,0] to sig_NHI, which ensures\n",
    "    #  it is a 2-element array.\n",
    "    sigTemp = ch.sig_NHI+np.zeros(2)\n",
    "    ch_sigNHI.append(sigTemp)\n",
    "    if (sigTemp.sum() >= 0.5):\n",
    "        flagTemp=4\n",
    "    else:\n",
    "        flagTemp=ch.flag_NHI\n",
    "    ch_flagNHI.append(flagTemp)"
   ]
  },
  {
   "cell_type": "markdown",
   "metadata": {},
   "source": [
    "#### Let's examine the flags:"
   ]
  },
  {
   "cell_type": "code",
   "execution_count": 96,
   "metadata": {
    "collapsed": false
   },
   "outputs": [
    {
     "name": "stdout",
     "output_type": "stream",
     "text": [
      "[u'J0226+0015_268_22', array([ 12.441,   9.   ,   3.   ])]\n",
      "[u'J0401-0540_67_24', array([ 12.884,   0.059,   1.   ])]\n",
      "[u'J0803+4332_306_20', array([ 12.48,   9.  ,   3.  ])]\n",
      "[u'J0910+1014_242_34', array([  0.,  99.,  99.])]\n",
      "[u'J0910+1014_34_46', array([ 13.292,   0.073,   2.   ])]\n",
      "[u'J0914+2823_41_27', array([ 12.639,   0.106,   1.   ])]\n",
      "[u'J0925+4004_196_22', array([ 13.755,   0.037,   2.   ])]\n",
      "[u'J0928+6025_110_35', array([ 13.783,   0.042,   2.   ])]\n",
      "[u'J0935+0204_15_28', array([ 12.769,   9.   ,   3.   ])]\n",
      "[u'J0943+0531_106_34', array([ 12.893,   0.101,   1.   ])]\n",
      "[u'J0943+0531_216_61', array([ 12.572,   9.   ,   3.   ])]\n"
     ]
    }
   ],
   "source": [
    "#for j in np.arange(0,np.size(ch_NSiIII)):                   \n",
    "#    print([ch_name[j],np.round([ch_NSiIII[j],ch_sigNSiIII[j],ch_flagNSiIII[j]],3)])\n",
    "\n",
    "for j in np.arange(0,11):                   \n",
    "    print([ch_name[j],np.round([ch_NSiIII[j],ch_sigNSiIII[j],ch_flagNSiIII[j]],3)])    "
   ]
  },
  {
   "cell_type": "markdown",
   "metadata": {},
   "source": [
    "*IF* the flags follow Table 3 in Prochaska et al. (2017), we have:\n",
    "* FLAG = 1: Measurement\n",
    "* FLAG = 2: Lower limit (saturated)\n",
    "* FLAG = 3: Upper limit\n",
    "* FLAG = 99: No observation [jch added]"
   ]
  },
  {
   "cell_type": "code",
   "execution_count": 100,
   "metadata": {
    "collapsed": false
   },
   "outputs": [
    {
     "data": {
      "text/plain": [
       "array([False,  True, False, False, False,  True, False, False, False,\n",
       "        True, False, False, False, False, False, False, False,  True,\n",
       "       False, False, False, False, False,  True, False,  True, False,\n",
       "       False,  True, False, False, False,  True, False, False, False,\n",
       "        True,  True, False, False, False, False, False, False], dtype=bool)"
      ]
     },
     "execution_count": 100,
     "metadata": {},
     "output_type": "execute_result"
    }
   ],
   "source": [
    "measure = (np.array(ch_flagNSiIII) == 1.)\n",
    "measure\n",
    "#print(ch_NSiIII[measure])\n",
    "#print(ch_flagNSiIII)"
   ]
  },
  {
   "cell_type": "markdown",
   "metadata": {},
   "source": [
    "### Do some initial plots"
   ]
  },
  {
   "cell_type": "code",
   "execution_count": 91,
   "metadata": {
    "collapsed": true
   },
   "outputs": [
    {
     "data": {
      "text/plain": [
       "<Container object of 3 artists>"
      ]
     },
     "execution_count": 91,
     "metadata": {},
     "output_type": "execute_result"
    },
    {
     "data": {
      "image/png": "[encoded data removed]",
      "text/plain": [
       "<matplotlib.figure.Figure at 0x110d51dd0>"
      ]
     },
     "metadata": {},
     "output_type": "display_data"
    }
   ],
   "source": [
    "CHcolor = 'white'\n",
    "\n",
    "measure = (ch_flagNSiIII == 1)\n",
    "lower = (ch_flagNSiIII == 2)\n",
    "upper = (ch_flagNSiIII == 3)\n",
    "\n",
    "plt.figure(1,figsize=(7,4.5))\n",
    "plt.errorbar(ch_NHI[measure],ch_NSiIII[measure],ch_sigNSiIII[measure],\n",
    "             color=CHcolor,marker='o',markeredgewidth=1.25,markersize=10,ls='',\n",
    "             elinewidth=2,capthick=2,ecolor='k')\n",
    "plt.errorbar(ch_NHI[measure],ch_NSiIII[measure],ch_sigNSiIII[measure],\n",
    "             color=CHcolor,marker='o',markeredgewidth=1.25,markersize=10,ls='',\n",
    "             elinewidth=2,capthick=2,ecolor='k')"
   ]
  }
 ],
 "metadata": {
  "anaconda-cloud": {},
  "kernelspec": {
   "display_name": "Python [conda root]",
   "language": "python",
   "name": "conda-root-py"
  },
  "language_info": {
   "codemirror_mode": {
    "name": "ipython",
    "version": 2
   },
   "file_extension": ".py",
   "mimetype": "text/x-python",
   "name": "python",
   "nbconvert_exporter": "python",
   "pygments_lexer": "ipython2",
   "version": "2.7.13"
  }
 },
 "nbformat": 4,
 "nbformat_minor": 1
}
