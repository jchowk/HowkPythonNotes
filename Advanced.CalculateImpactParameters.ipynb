{
 "cells": [
  {
   "cell_type": "markdown",
   "metadata": {},
   "source": [
    "# Deriving impact parameter for QSO relative to galaxies\n",
    "\n",
    "This notebook walks through calculating physical impact parameters from QSO and galaxy coordinates and galaxy redshifts.\n",
    "\n",
    "We will use the case of two galaxies near to a QSO observed by HST/COS:\n",
    "\n",
    "* **QSO**: SDSS J222836.32-095008.9 (z=0.797)\n",
    "* **Gal 1**: SDSS J222844.17-094809.4 (z=0.0538)\n",
    "* **Gal 2**: SDSS J222834.38-094943.4 (z~0.165)\n",
    "* **Gal 3**: SDSS J222834.93-094939.9 (z~0.409)"
   ]
  },
  {
   "cell_type": "code",
   "execution_count": 1,
   "metadata": {},
   "outputs": [],
   "source": [
    "# Typical imports here\n",
    "import numpy as np\n",
    "import matplotlib.pyplot as plt\n",
    "import astropy.units as u\n",
    "import astropy.constants as c"
   ]
  },
  {
   "cell_type": "markdown",
   "metadata": {},
   "source": [
    "```\n",
    "\n",
    "```\n",
    "# Calculating angular offsets with `astropy.coordinates`\n",
    "\n",
    "The first thing to do is calculate the angular offsets of each of the galaxies from the QSO."
   ]
  },
  {
   "cell_type": "code",
   "execution_count": 2,
   "metadata": {},
   "outputs": [],
   "source": [
    "from astropy.coordinates import SkyCoord"
   ]
  },
  {
   "cell_type": "markdown",
   "metadata": {},
   "source": [
    "## 1. Define the QSO coordinates"
   ]
  },
  {
   "cell_type": "code",
   "execution_count": 4,
   "metadata": {},
   "outputs": [],
   "source": [
    "qsoCoord = SkyCoord('22:28:36.31','-09:50:08.9',unit=('hourangle','deg'),frame='icrs')"
   ]
  },
  {
   "cell_type": "code",
   "execution_count": 6,
   "metadata": {},
   "outputs": [
    {
     "data": {
      "text/plain": [
       "<SkyCoord (Galactic): (l, b) in deg\n",
       "    (53.23685506, -52.18006454)>"
      ]
     },
     "execution_count": 6,
     "metadata": {},
     "output_type": "execute_result"
    }
   ],
   "source": [
    "qsoCoord.galactic"
   ]
  },
  {
   "cell_type": "markdown",
   "metadata": {},
   "source": [
    "We could have queried SIMBAD for the coordinates:"
   ]
  },
  {
   "cell_type": "code",
   "execution_count": 7,
   "metadata": {},
   "outputs": [],
   "source": [
    "from astroquery.simbad import Simbad\n",
    "# Create custom search\n",
    "customSimbad = Simbad()\n",
    "\n",
    "# Use alternative name for this QSO\n",
    "simbad_data = customSimbad.query_object('SDSS J222836.32-095008.9')\n",
    "qsoCoord = SkyCoord(simbad_data['RA'],simbad_data['DEC'],\n",
    "                    unit=('hourangle','deg'),frame='icrs')"
   ]
  },
  {
   "cell_type": "markdown",
   "metadata": {},
   "source": [
    "```\n",
    "\n",
    "```\n",
    "## 2. Define the galaxy coordinates"
   ]
  },
  {
   "cell_type": "code",
   "execution_count": 9,
   "metadata": {},
   "outputs": [],
   "source": [
    "gal_ra = ['22:28:44.17','22:28:34.38','22:28:34.9']\n",
    "gal_dec = ['-09:48:09.4','-09:49:43.4','-09:49:39.9']\n",
    "galCoord = SkyCoord(gal_ra,gal_dec,unit=('hourangle','deg'),frame='icrs')"
   ]
  },
  {
   "cell_type": "markdown",
   "metadata": {},
   "source": [
    "```\n",
    "\n",
    "```\n",
    "## 3. Calculate the angular separation of each galaxy from the QSO"
   ]
  },
  {
   "cell_type": "code",
   "execution_count": 10,
   "metadata": {},
   "outputs": [],
   "source": [
    "angular_offsets = qsoCoord.separation(galCoord)"
   ]
  },
  {
   "cell_type": "markdown",
   "metadata": {},
   "source": [
    "The offsets are stored as coordinates, with appropriate `astropy` units:"
   ]
  },
  {
   "cell_type": "code",
   "execution_count": 11,
   "metadata": {},
   "outputs": [
    {
     "data": {
      "text/latex": [
       "[$0^\\circ02{}^\\prime46.4911{}^{\\prime\\prime}$\n",
       " $0^\\circ00{}^\\prime38.5324{}^{\\prime\\prime}$\n",
       " $0^\\circ00{}^\\prime35.9415{}^{\\prime\\prime}$]"
      ],
      "text/plain": [
       "<Angle [0.04624753, 0.01070344, 0.00998375] deg>"
      ]
     },
     "execution_count": 11,
     "metadata": {},
     "output_type": "execute_result"
    }
   ],
   "source": [
    "angular_offsets"
   ]
  },
  {
   "cell_type": "code",
   "execution_count": 12,
   "metadata": {},
   "outputs": [
    {
     "data": {
      "text/latex": [
       "[$166.491\\mathrm{{}^{\\prime\\prime}}$ $38.5324\\mathrm{{}^{\\prime\\prime}}$\n",
       " $35.9415\\mathrm{{}^{\\prime\\prime}}$]"
      ],
      "text/plain": [
       "<Angle [166.49110013,  38.53239509,  35.94149616] arcsec>"
      ]
     },
     "execution_count": 12,
     "metadata": {},
     "output_type": "execute_result"
    }
   ],
   "source": [
    "angular_offsets.to('arcsec')"
   ]
  },
  {
   "cell_type": "code",
   "execution_count": 13,
   "metadata": {},
   "outputs": [
    {
     "data": {
      "text/latex": [
       "[$2.77485\\mathrm{{}^{\\prime}}$ $0.642207\\mathrm{{}^{\\prime}}$\n",
       " $0.599025\\mathrm{{}^{\\prime}}$]"
      ],
      "text/plain": [
       "<Angle [2.77485167, 0.64220658, 0.59902494] arcmin>"
      ]
     },
     "execution_count": 13,
     "metadata": {},
     "output_type": "execute_result"
    }
   ],
   "source": [
    "angular_offsets.to('arcmin')"
   ]
  },
  {
   "cell_type": "markdown",
   "metadata": {},
   "source": [
    "# Calculate physical impact parameters using `astropy.cosmology`\n",
    "\n",
    "We are interested in transforming the angular offsets to physical offsets – the arclength. For cosmological distances, this requires using the _angular diameter distance_:\n",
    "\n",
    "$r_\\perp = D_A \\theta$.\n",
    "\n",
    "## 1.Set up our cosmology."
   ]
  },
  {
   "cell_type": "code",
   "execution_count": 14,
   "metadata": {},
   "outputs": [],
   "source": [
    "from astropy.cosmology import Planck15 as cosmo"
   ]
  },
  {
   "cell_type": "markdown",
   "metadata": {},
   "source": [
    "The `cosmo` procedure now contains the functions needed to calculate cosmological distances, timescales, etc."
   ]
  },
  {
   "cell_type": "code",
   "execution_count": 15,
   "metadata": {},
   "outputs": [
    {
     "data": {
      "text/plain": [
       "FlatLambdaCDM(name=\"Planck15\", H0=67.7 km / (Mpc s), Om0=0.307, Tcmb0=2.725 K, Neff=3.05, m_nu=[0.   0.   0.06] eV, Ob0=0.0486)"
      ]
     },
     "execution_count": 15,
     "metadata": {},
     "output_type": "execute_result"
    }
   ],
   "source": [
    "cosmo"
   ]
  },
  {
   "cell_type": "markdown",
   "metadata": {},
   "source": [
    "Rather than use a cosmology based on the Planck results, it's sometimes preferable to adopt a **\"737\" cosmology**:"
   ]
  },
  {
   "cell_type": "code",
   "execution_count": 16,
   "metadata": {},
   "outputs": [],
   "source": [
    "from astropy.cosmology import FlatLambdaCDM\n",
    "\n",
    "cosmo = FlatLambdaCDM(H0=70 * u.km / u.s / u.Mpc, Tcmb0=2.725 * u.K,\n",
    "                      Om0=0.3, Ob0=0.045)\n",
    "\n",
    "H0 = 70.*u.km/u.s/u.Mpc # Hubble constant"
   ]
  },
  {
   "cell_type": "code",
   "execution_count": 17,
   "metadata": {},
   "outputs": [
    {
     "data": {
      "text/plain": [
       "FlatLambdaCDM(H0=70 km / (Mpc s), Om0=0.3, Tcmb0=2.725 K, Neff=3.04, m_nu=[0. 0. 0.] eV, Ob0=0.045)"
      ]
     },
     "execution_count": 17,
     "metadata": {},
     "output_type": "execute_result"
    }
   ],
   "source": [
    "cosmo"
   ]
  },
  {
   "cell_type": "markdown",
   "metadata": {},
   "source": [
    "## 2(a). Calculate angular diameter distance to the three galaxies, apply this to calculate arclength\n",
    "\n",
    "#### First calculate the angular diameter distance to each galaxy"
   ]
  },
  {
   "cell_type": "code",
   "execution_count": 18,
   "metadata": {},
   "outputs": [],
   "source": [
    "zgal = np.array([0.0538, 0.165, 0.409])\n",
    "DA = cosmo.angular_diameter_distance(zgal)"
   ]
  },
  {
   "cell_type": "code",
   "execution_count": 19,
   "metadata": {},
   "outputs": [
    {
     "data": {
      "text/latex": [
       "$[215.97197,~583.39222,~1123.2337] \\; \\mathrm{Mpc}$"
      ],
      "text/plain": [
       "<Quantity [ 215.97197486,  583.39222125, 1123.23365703] Mpc>"
      ]
     },
     "execution_count": 19,
     "metadata": {},
     "output_type": "execute_result"
    }
   ],
   "source": [
    "DA"
   ]
  },
  {
   "cell_type": "markdown",
   "metadata": {},
   "source": [
    "#### Calculate physical separation for each of the galaxies using $D_A$"
   ]
  },
  {
   "cell_type": "code",
   "execution_count": 20,
   "metadata": {},
   "outputs": [],
   "source": [
    "# Notice the transformation to distances in kpc and angle in radians:\n",
    "r_perp = DA.to('kpc')*angular_offsets.to('rad')/u.rad"
   ]
  },
  {
   "cell_type": "markdown",
   "metadata": {},
   "source": [
    "This produces physical offsets in _proper_ distance units. "
   ]
  },
  {
   "cell_type": "code",
   "execution_count": 21,
   "metadata": {},
   "outputs": [
    {
     "data": {
      "text/latex": [
       "$[174.32645,~108.98369,~195.72267] \\; \\mathrm{kpc}$"
      ],
      "text/plain": [
       "<Quantity [174.32645125, 108.98368931, 195.72266792] kpc>"
      ]
     },
     "execution_count": 21,
     "metadata": {},
     "output_type": "execute_result"
    }
   ],
   "source": [
    "r_perp"
   ]
  },
  {
   "cell_type": "markdown",
   "metadata": {},
   "source": [
    "## 2(b). Calculate physical separation for each of the galaxies using `cosmo` code\n",
    "\n",
    "While we can calculate the results using the code specifically designed for this problem within `astropy.cosmology`."
   ]
  },
  {
   "cell_type": "code",
   "execution_count": 24,
   "metadata": {},
   "outputs": [],
   "source": [
    "scale = cosmo.kpc_proper_per_arcmin(zgal)\n",
    "r_perp = scale*angular_offsets.to('arcmin')"
   ]
  },
  {
   "cell_type": "code",
   "execution_count": 25,
   "metadata": {},
   "outputs": [
    {
     "data": {
      "text/latex": [
       "$[62.823701,~169.70192,~326.73543] \\; \\mathrm{\\frac{kpc}{{}^{\\prime}}}$"
      ],
      "text/plain": [
       "<Quantity [ 62.82370089, 169.70191819, 326.73542641] kpc / arcmin>"
      ]
     },
     "execution_count": 25,
     "metadata": {},
     "output_type": "execute_result"
    }
   ],
   "source": [
    "scale"
   ]
  },
  {
   "cell_type": "code",
   "execution_count": 26,
   "metadata": {},
   "outputs": [
    {
     "data": {
      "text/latex": [
       "$[174.32645,~108.98369,~195.72267] \\; \\mathrm{kpc}$"
      ],
      "text/plain": [
       "<Quantity [174.32645125, 108.98368931, 195.72266792] kpc>"
      ]
     },
     "execution_count": 26,
     "metadata": {},
     "output_type": "execute_result"
    }
   ],
   "source": [
    "r_perp"
   ]
  },
  {
   "cell_type": "markdown",
   "metadata": {},
   "source": [
    "If we prefer _comoving separations_, we can do that easily, as well:"
   ]
  },
  {
   "cell_type": "code",
   "execution_count": 27,
   "metadata": {},
   "outputs": [],
   "source": [
    "scale = cosmo.kpc_comoving_per_arcmin(zgal)\n",
    "r_perp = scale*angular_offsets.to('arcmin')"
   ]
  },
  {
   "cell_type": "code",
   "execution_count": 28,
   "metadata": {},
   "outputs": [
    {
     "data": {
      "text/latex": [
       "$[183.70521,~126.966,~275.77324] \\; \\mathrm{kpc}$"
      ],
      "text/plain": [
       "<Quantity [183.70521433, 126.96599804, 275.7732391 ] kpc>"
      ]
     },
     "execution_count": 28,
     "metadata": {},
     "output_type": "execute_result"
    }
   ],
   "source": [
    "r_perp"
   ]
  },
  {
   "cell_type": "markdown",
   "metadata": {},
   "source": [
    "Remember that comoving distances are just the proper distances $\\times\\ (1+z)$"
   ]
  },
  {
   "cell_type": "code",
   "execution_count": 35,
   "metadata": {},
   "outputs": [
    {
     "data": {
      "text/latex": [
       "$[174.32645,~108.98369,~195.72267] \\; \\mathrm{kpc}$"
      ],
      "text/plain": [
       "<Quantity [174.32645125, 108.98368931, 195.72266792] kpc>"
      ]
     },
     "execution_count": 35,
     "metadata": {},
     "output_type": "execute_result"
    }
   ],
   "source": [
    "r_perp / (1+zgal)"
   ]
  }
 ],
 "metadata": {
  "kernelspec": {
   "display_name": "Python 3",
   "language": "python",
   "name": "python3"
  },
  "language_info": {
   "codemirror_mode": {
    "name": "ipython",
    "version": 3
   },
   "file_extension": ".py",
   "mimetype": "text/x-python",
   "name": "python",
   "nbconvert_exporter": "python",
   "pygments_lexer": "ipython3",
   "version": "3.7.3"
  }
 },
 "nbformat": 4,
 "nbformat_minor": 4
}
